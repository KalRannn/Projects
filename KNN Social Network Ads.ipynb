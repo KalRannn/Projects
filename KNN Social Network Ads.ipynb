{
 "cells": [
  {
   "cell_type": "code",
   "execution_count": 74,
   "id": "04126c06",
   "metadata": {},
   "outputs": [],
   "source": [
    "import pandas as pd\n",
    "import numpy as np\n",
    "import matplotlib.pyplot as plt"
   ]
  },
  {
   "cell_type": "code",
   "execution_count": 2,
   "id": "7d4fdfd5",
   "metadata": {},
   "outputs": [],
   "source": [
    "df = pd.read_csv('Social_Network_Ads.csv')"
   ]
  },
  {
   "cell_type": "code",
   "execution_count": 4,
   "id": "d4c83e5a",
   "metadata": {},
   "outputs": [
    {
     "data": {
      "text/html": [
       "<div>\n",
       "<style scoped>\n",
       "    .dataframe tbody tr th:only-of-type {\n",
       "        vertical-align: middle;\n",
       "    }\n",
       "\n",
       "    .dataframe tbody tr th {\n",
       "        vertical-align: top;\n",
       "    }\n",
       "\n",
       "    .dataframe thead th {\n",
       "        text-align: right;\n",
       "    }\n",
       "</style>\n",
       "<table border=\"1\" class=\"dataframe\">\n",
       "  <thead>\n",
       "    <tr style=\"text-align: right;\">\n",
       "      <th></th>\n",
       "      <th>User ID</th>\n",
       "      <th>Gender</th>\n",
       "      <th>Age</th>\n",
       "      <th>EstimatedSalary</th>\n",
       "      <th>Purchased</th>\n",
       "    </tr>\n",
       "  </thead>\n",
       "  <tbody>\n",
       "    <tr>\n",
       "      <th>0</th>\n",
       "      <td>15624510</td>\n",
       "      <td>Male</td>\n",
       "      <td>19</td>\n",
       "      <td>19000</td>\n",
       "      <td>0</td>\n",
       "    </tr>\n",
       "    <tr>\n",
       "      <th>1</th>\n",
       "      <td>15810944</td>\n",
       "      <td>Male</td>\n",
       "      <td>35</td>\n",
       "      <td>20000</td>\n",
       "      <td>0</td>\n",
       "    </tr>\n",
       "    <tr>\n",
       "      <th>2</th>\n",
       "      <td>15668575</td>\n",
       "      <td>Female</td>\n",
       "      <td>26</td>\n",
       "      <td>43000</td>\n",
       "      <td>0</td>\n",
       "    </tr>\n",
       "    <tr>\n",
       "      <th>3</th>\n",
       "      <td>15603246</td>\n",
       "      <td>Female</td>\n",
       "      <td>27</td>\n",
       "      <td>57000</td>\n",
       "      <td>0</td>\n",
       "    </tr>\n",
       "    <tr>\n",
       "      <th>4</th>\n",
       "      <td>15804002</td>\n",
       "      <td>Male</td>\n",
       "      <td>19</td>\n",
       "      <td>76000</td>\n",
       "      <td>0</td>\n",
       "    </tr>\n",
       "  </tbody>\n",
       "</table>\n",
       "</div>"
      ],
      "text/plain": [
       "    User ID  Gender  Age  EstimatedSalary  Purchased\n",
       "0  15624510    Male   19            19000          0\n",
       "1  15810944    Male   35            20000          0\n",
       "2  15668575  Female   26            43000          0\n",
       "3  15603246  Female   27            57000          0\n",
       "4  15804002    Male   19            76000          0"
      ]
     },
     "execution_count": 4,
     "metadata": {},
     "output_type": "execute_result"
    }
   ],
   "source": [
    "df.head()"
   ]
  },
  {
   "cell_type": "code",
   "execution_count": 5,
   "id": "7d4e5dfb",
   "metadata": {},
   "outputs": [
    {
     "name": "stdout",
     "output_type": "stream",
     "text": [
      "<class 'pandas.core.frame.DataFrame'>\n",
      "RangeIndex: 400 entries, 0 to 399\n",
      "Data columns (total 5 columns):\n",
      " #   Column           Non-Null Count  Dtype \n",
      "---  ------           --------------  ----- \n",
      " 0   User ID          400 non-null    int64 \n",
      " 1   Gender           400 non-null    object\n",
      " 2   Age              400 non-null    int64 \n",
      " 3   EstimatedSalary  400 non-null    int64 \n",
      " 4   Purchased        400 non-null    int64 \n",
      "dtypes: int64(4), object(1)\n",
      "memory usage: 15.8+ KB\n"
     ]
    }
   ],
   "source": [
    "df.info()"
   ]
  },
  {
   "cell_type": "code",
   "execution_count": 7,
   "id": "052e1551",
   "metadata": {},
   "outputs": [
    {
     "data": {
      "text/plain": [
       "(400, 5)"
      ]
     },
     "execution_count": 7,
     "metadata": {},
     "output_type": "execute_result"
    }
   ],
   "source": [
    "df.shape"
   ]
  },
  {
   "cell_type": "code",
   "execution_count": 8,
   "id": "fb0ef51f",
   "metadata": {},
   "outputs": [
    {
     "data": {
      "text/html": [
       "<div>\n",
       "<style scoped>\n",
       "    .dataframe tbody tr th:only-of-type {\n",
       "        vertical-align: middle;\n",
       "    }\n",
       "\n",
       "    .dataframe tbody tr th {\n",
       "        vertical-align: top;\n",
       "    }\n",
       "\n",
       "    .dataframe thead th {\n",
       "        text-align: right;\n",
       "    }\n",
       "</style>\n",
       "<table border=\"1\" class=\"dataframe\">\n",
       "  <thead>\n",
       "    <tr style=\"text-align: right;\">\n",
       "      <th></th>\n",
       "      <th>User ID</th>\n",
       "      <th>Age</th>\n",
       "      <th>EstimatedSalary</th>\n",
       "      <th>Purchased</th>\n",
       "    </tr>\n",
       "  </thead>\n",
       "  <tbody>\n",
       "    <tr>\n",
       "      <th>count</th>\n",
       "      <td>4.000000e+02</td>\n",
       "      <td>400.000000</td>\n",
       "      <td>400.000000</td>\n",
       "      <td>400.000000</td>\n",
       "    </tr>\n",
       "    <tr>\n",
       "      <th>mean</th>\n",
       "      <td>1.569154e+07</td>\n",
       "      <td>37.655000</td>\n",
       "      <td>69742.500000</td>\n",
       "      <td>0.357500</td>\n",
       "    </tr>\n",
       "    <tr>\n",
       "      <th>std</th>\n",
       "      <td>7.165832e+04</td>\n",
       "      <td>10.482877</td>\n",
       "      <td>34096.960282</td>\n",
       "      <td>0.479864</td>\n",
       "    </tr>\n",
       "    <tr>\n",
       "      <th>min</th>\n",
       "      <td>1.556669e+07</td>\n",
       "      <td>18.000000</td>\n",
       "      <td>15000.000000</td>\n",
       "      <td>0.000000</td>\n",
       "    </tr>\n",
       "    <tr>\n",
       "      <th>25%</th>\n",
       "      <td>1.562676e+07</td>\n",
       "      <td>29.750000</td>\n",
       "      <td>43000.000000</td>\n",
       "      <td>0.000000</td>\n",
       "    </tr>\n",
       "    <tr>\n",
       "      <th>50%</th>\n",
       "      <td>1.569434e+07</td>\n",
       "      <td>37.000000</td>\n",
       "      <td>70000.000000</td>\n",
       "      <td>0.000000</td>\n",
       "    </tr>\n",
       "    <tr>\n",
       "      <th>75%</th>\n",
       "      <td>1.575036e+07</td>\n",
       "      <td>46.000000</td>\n",
       "      <td>88000.000000</td>\n",
       "      <td>1.000000</td>\n",
       "    </tr>\n",
       "    <tr>\n",
       "      <th>max</th>\n",
       "      <td>1.581524e+07</td>\n",
       "      <td>60.000000</td>\n",
       "      <td>150000.000000</td>\n",
       "      <td>1.000000</td>\n",
       "    </tr>\n",
       "  </tbody>\n",
       "</table>\n",
       "</div>"
      ],
      "text/plain": [
       "            User ID         Age  EstimatedSalary   Purchased\n",
       "count  4.000000e+02  400.000000       400.000000  400.000000\n",
       "mean   1.569154e+07   37.655000     69742.500000    0.357500\n",
       "std    7.165832e+04   10.482877     34096.960282    0.479864\n",
       "min    1.556669e+07   18.000000     15000.000000    0.000000\n",
       "25%    1.562676e+07   29.750000     43000.000000    0.000000\n",
       "50%    1.569434e+07   37.000000     70000.000000    0.000000\n",
       "75%    1.575036e+07   46.000000     88000.000000    1.000000\n",
       "max    1.581524e+07   60.000000    150000.000000    1.000000"
      ]
     },
     "execution_count": 8,
     "metadata": {},
     "output_type": "execute_result"
    }
   ],
   "source": [
    "df.describe()"
   ]
  },
  {
   "cell_type": "code",
   "execution_count": 13,
   "id": "7f7fa7c1",
   "metadata": {},
   "outputs": [],
   "source": [
    "X = df.iloc[:,2:4].values"
   ]
  },
  {
   "cell_type": "code",
   "execution_count": 14,
   "id": "cf3d1e9f",
   "metadata": {},
   "outputs": [
    {
     "data": {
      "text/plain": [
       "(400, 2)"
      ]
     },
     "execution_count": 14,
     "metadata": {},
     "output_type": "execute_result"
    }
   ],
   "source": [
    "X.shape"
   ]
  },
  {
   "cell_type": "code",
   "execution_count": 24,
   "id": "a9c83781",
   "metadata": {},
   "outputs": [],
   "source": [
    "y = df.iloc[:,-1].values"
   ]
  },
  {
   "cell_type": "code",
   "execution_count": 25,
   "id": "4947c2f9",
   "metadata": {},
   "outputs": [
    {
     "data": {
      "text/plain": [
       "array([0, 0, 0, 0, 0, 0, 0, 1, 0, 0, 0, 0, 0, 0, 0, 0, 1, 1, 1, 1, 1, 1,\n",
       "       1, 1, 1, 1, 1, 1, 0, 0, 0, 1, 0, 0, 0, 0, 0, 0, 0, 0, 0, 0, 0, 0,\n",
       "       0, 0, 0, 0, 1, 0, 0, 0, 0, 0, 0, 0, 0, 0, 0, 0, 0, 0, 0, 1, 0, 0,\n",
       "       0, 0, 0, 0, 0, 0, 0, 0, 0, 1, 0, 0, 0, 0, 0, 0, 0, 0, 0, 1, 0, 0,\n",
       "       0, 0, 0, 0, 0, 0, 0, 0, 0, 1, 0, 0, 0, 0, 0, 1, 0, 0, 0, 0, 0, 0,\n",
       "       0, 0, 0, 0, 0, 0, 0, 0, 0, 0, 0, 0, 0, 0, 0, 0, 0, 0, 0, 0, 0, 0,\n",
       "       0, 0, 0, 0, 0, 1, 0, 0, 0, 0, 0, 0, 0, 0, 1, 0, 0, 0, 0, 0, 0, 0,\n",
       "       0, 0, 0, 0, 0, 1, 1, 0, 0, 0, 0, 0, 0, 0, 1, 0, 0, 0, 0, 0, 0, 0,\n",
       "       0, 0, 0, 0, 0, 0, 1, 0, 0, 0, 0, 0, 0, 0, 0, 0, 0, 0, 0, 0, 0, 0,\n",
       "       0, 0, 0, 0, 1, 0, 1, 0, 1, 0, 1, 0, 1, 1, 0, 0, 0, 1, 0, 0, 0, 1,\n",
       "       0, 1, 1, 1, 0, 0, 1, 1, 0, 1, 1, 0, 1, 1, 0, 1, 0, 0, 0, 1, 1, 0,\n",
       "       1, 1, 0, 1, 0, 1, 0, 1, 0, 0, 1, 1, 0, 1, 0, 0, 1, 1, 0, 1, 1, 0,\n",
       "       1, 1, 0, 0, 1, 0, 0, 1, 1, 1, 1, 1, 0, 1, 1, 1, 1, 0, 1, 1, 0, 1,\n",
       "       0, 1, 0, 1, 1, 1, 1, 0, 0, 0, 1, 1, 0, 1, 1, 1, 1, 1, 0, 0, 0, 1,\n",
       "       1, 0, 0, 1, 0, 1, 0, 1, 1, 0, 1, 0, 1, 1, 0, 1, 1, 0, 0, 0, 1, 1,\n",
       "       0, 1, 0, 0, 1, 0, 1, 0, 0, 1, 1, 0, 0, 1, 1, 0, 1, 1, 0, 0, 1, 0,\n",
       "       1, 0, 1, 1, 1, 0, 1, 0, 1, 1, 1, 0, 1, 1, 1, 1, 0, 1, 1, 1, 0, 1,\n",
       "       0, 1, 0, 0, 1, 1, 0, 1, 1, 1, 1, 1, 1, 0, 1, 1, 1, 1, 1, 1, 0, 1,\n",
       "       1, 1, 0, 1], dtype=int64)"
      ]
     },
     "execution_count": 25,
     "metadata": {},
     "output_type": "execute_result"
    }
   ],
   "source": [
    "y"
   ]
  },
  {
   "cell_type": "code",
   "execution_count": 26,
   "id": "50a1f821",
   "metadata": {},
   "outputs": [
    {
     "data": {
      "text/plain": [
       "(400,)"
      ]
     },
     "execution_count": 26,
     "metadata": {},
     "output_type": "execute_result"
    }
   ],
   "source": [
    "y.shape"
   ]
  },
  {
   "cell_type": "code",
   "execution_count": 27,
   "id": "6ad233bd",
   "metadata": {},
   "outputs": [],
   "source": [
    "from sklearn.model_selection import train_test_split"
   ]
  },
  {
   "cell_type": "code",
   "execution_count": 28,
   "id": "0fd36497",
   "metadata": {},
   "outputs": [],
   "source": [
    "X_train,X_test,y_train,y_test = train_test_split(X,y,test_size=0.2)"
   ]
  },
  {
   "cell_type": "code",
   "execution_count": 31,
   "id": "e66533ec",
   "metadata": {},
   "outputs": [],
   "source": [
    "from sklearn.preprocessing import StandardScaler\n",
    "scaler = StandardScaler()"
   ]
  },
  {
   "cell_type": "code",
   "execution_count": 32,
   "id": "b246fc99",
   "metadata": {},
   "outputs": [],
   "source": [
    "X_train = scaler.fit_transform(X_train)"
   ]
  },
  {
   "cell_type": "code",
   "execution_count": 33,
   "id": "b31c89c8",
   "metadata": {},
   "outputs": [
    {
     "data": {
      "text/plain": [
       "array([[ 0.96698475,  0.58947295],\n",
       "       [-0.08162471,  0.06911062],\n",
       "       [-0.93957791,  0.44492786],\n",
       "       [ 0.10903155,  0.21365571],\n",
       "       [-1.13023417,  1.39892546],\n",
       "       [-0.55826538,  1.37001644],\n",
       "       [-1.5115467 , -1.2317952 ],\n",
       "       [ 1.06231288, -1.20288618],\n",
       "       [ 0.20435968, -0.36452465],\n",
       "       [ 0.10903155,  1.05201724],\n",
       "       [ 0.96698475, -1.14506814],\n",
       "       [-1.13023417, -1.08725011],\n",
       "       [-0.84424978, -0.24888858],\n",
       "       [-1.13023417, -1.00052305],\n",
       "       [-1.60687484,  0.53165491],\n",
       "       [-0.27228098, -0.36452465],\n",
       "       [-0.17695285, -0.2777976 ],\n",
       "       [ 0.29968782,  0.50274589],\n",
       "       [ 2.01559421,  0.18474669],\n",
       "       [-0.55826538,  1.37001644],\n",
       "       [ 1.15764101, -0.74034189],\n",
       "       [-1.70220297,  0.12692866],\n",
       "       [ 0.87165661,  1.02310822],\n",
       "       [ 0.68100035, -1.37634029],\n",
       "       [ 0.20435968, -0.36452465],\n",
       "       [-1.03490604, -1.11615913],\n",
       "       [-0.84424978,  0.38710982],\n",
       "       [ 0.68100035, -0.71143287],\n",
       "       [ 0.10903155,  1.86146975],\n",
       "       [-1.7975311 ,  0.01129259],\n",
       "       [ 0.29968782,  0.30038277],\n",
       "       [-1.03490604,  0.53165491],\n",
       "       [ 0.39501595,  0.58947295],\n",
       "       [ 0.77632848,  0.53165491],\n",
       "       [ 0.39501595, -0.13325251],\n",
       "       [ 1.06231288,  0.12692866],\n",
       "       [-0.65359351, -0.33561563],\n",
       "       [-1.03490604,  0.56056393],\n",
       "       [-0.27228098,  0.15583768],\n",
       "       [-0.93957791, -0.74034189],\n",
       "       [-1.03490604, -0.33561563],\n",
       "       [-0.84424978, -0.65361483],\n",
       "       [ 0.77632848,  0.27147375],\n",
       "       [ 0.29968782,  0.06911062],\n",
       "       [-1.22556231, -1.05834109],\n",
       "       [ 0.87165661,  1.08092626],\n",
       "       [ 0.20435968,  0.15583768],\n",
       "       [-1.13023417,  0.47383688],\n",
       "       [-0.36760911, -1.28961323],\n",
       "       [-1.32089044, -1.46306734],\n",
       "       [-1.5115467 , -1.49197636],\n",
       "       [-0.27228098,  0.79183608],\n",
       "       [-1.70220297, -1.34743127],\n",
       "       [-0.46293724, -1.11615913],\n",
       "       [ 0.01370342, -0.42234269],\n",
       "       [-1.89285924,  0.3582008 ],\n",
       "       [ 0.68100035, -1.37634029],\n",
       "       [-0.27228098,  0.09801964],\n",
       "       [ 1.63428168,  1.60128859],\n",
       "       [ 0.10903155, -0.79815992],\n",
       "       [ 1.53895354, -1.26070422],\n",
       "       [ 0.39501595,  1.10983528],\n",
       "       [ 0.68100035,  0.27147375],\n",
       "       [-1.13023417, -1.57870342],\n",
       "       [ 2.01559421,  0.38710982],\n",
       "       [ 0.96698475,  1.7747427 ],\n",
       "       [ 1.25296914, -1.34743127],\n",
       "       [-0.74892164,  1.89037877],\n",
       "       [-0.74892164,  1.34110742],\n",
       "       [ 0.39501595, -0.45125171],\n",
       "       [ 0.77632848,  0.3582008 ],\n",
       "       [-0.17695285,  2.15055993],\n",
       "       [ 1.34829728,  0.58947295],\n",
       "       [-0.27228098, -0.48016072],\n",
       "       [-0.93957791,  0.50274589],\n",
       "       [-0.17695285,  1.39892546],\n",
       "       [ 1.15764101,  0.53165491],\n",
       "       [-0.46293724,  1.25438037],\n",
       "       [-0.27228098,  0.06911062],\n",
       "       [-0.27228098, -1.43415833],\n",
       "       [ 0.87165661, -0.5957968 ],\n",
       "       [ 0.87165661, -0.53797876],\n",
       "       [ 0.87165661, -1.43415833],\n",
       "       [ 0.10903155,  0.76292706],\n",
       "       [ 2.11092234,  1.10983528],\n",
       "       [ 0.39501595,  0.15583768],\n",
       "       [-1.32089044,  0.41601884],\n",
       "       [-0.08162471,  0.30038277],\n",
       "       [ 0.29968782, -0.71143287],\n",
       "       [-1.60687484, -1.5497944 ],\n",
       "       [ 0.77632848, -0.82706894],\n",
       "       [ 0.87165661, -1.14506814],\n",
       "       [ 1.34829728, -0.913796  ],\n",
       "       [ 0.39501595,  2.29510502],\n",
       "       [-0.27228098,  0.27147375],\n",
       "       [-0.08162471,  0.12692866],\n",
       "       [-1.03490604,  0.41601884],\n",
       "       [-0.65359351,  0.0402016 ],\n",
       "       [-1.41621857, -1.43415833],\n",
       "       [ 0.29968782,  0.06911062],\n",
       "       [-0.46293724, -0.53797876],\n",
       "       [ 1.34829728,  1.28328939],\n",
       "       [ 0.10903155, -0.79815992],\n",
       "       [ 0.01370342,  0.30038277],\n",
       "       [-1.7975311 , -1.46306734],\n",
       "       [ 0.87165661, -0.56688778],\n",
       "       [-1.5115467 , -0.42234269],\n",
       "       [ 0.20435968, -0.13325251],\n",
       "       [-0.08162471,  2.15055993],\n",
       "       [ 0.29968782, -0.19107054],\n",
       "       [ 1.82493794,  0.12692866],\n",
       "       [-0.74892164, -0.5957968 ],\n",
       "       [-1.13023417, -1.14506814],\n",
       "       [-0.27228098, -0.2777976 ],\n",
       "       [ 0.29968782, -0.50906974],\n",
       "       [-0.74892164, -0.21997956],\n",
       "       [-0.46293724, -0.01761643],\n",
       "       [-0.46293724,  2.29510502],\n",
       "       [-1.13023417, -0.50906974],\n",
       "       [-1.89285924, -0.50906974],\n",
       "       [-1.41621857, -0.19107054],\n",
       "       [-0.84424978, -0.76925091],\n",
       "       [ 0.20435968,  0.06911062],\n",
       "       [ 0.96698475,  1.86146975],\n",
       "       [ 1.06231288, -0.13325251],\n",
       "       [ 0.01370342, -0.56688778],\n",
       "       [-0.27228098, -0.88488698],\n",
       "       [ 0.87165661, -0.76925091],\n",
       "       [-0.08162471,  2.20837797],\n",
       "       [ 0.58567222,  2.00601484],\n",
       "       [ 0.01370342, -0.24888858],\n",
       "       [-0.55826538,  0.47383688],\n",
       "       [ 1.92026607,  2.15055993],\n",
       "       [ 2.11092234,  0.93638117],\n",
       "       [-0.08162471, -1.05834109],\n",
       "       [ 0.77632848, -1.34743127],\n",
       "       [-1.03490604, -0.36452465],\n",
       "       [-0.17695285, -0.19107054],\n",
       "       [ 1.34829728,  2.32401404],\n",
       "       [ 0.39501595, -0.13325251],\n",
       "       [-0.36760911, -0.76925091],\n",
       "       [-1.32089044, -0.42234269],\n",
       "       [ 0.29968782, -1.14506814],\n",
       "       [-1.13023417,  0.30038277],\n",
       "       [ 0.87165661, -1.34743127],\n",
       "       [ 0.01370342, -0.56688778],\n",
       "       [ 2.11092234,  0.38710982],\n",
       "       [-0.27228098, -0.74034189],\n",
       "       [-0.17695285, -1.05834109],\n",
       "       [-0.84424978,  0.30038277],\n",
       "       [ 0.87165661,  1.25438037],\n",
       "       [ 1.92026607, -1.34743127],\n",
       "       [-0.74892164, -1.57870342],\n",
       "       [ 1.53895354,  0.9941992 ],\n",
       "       [ 1.63428168, -0.88488698],\n",
       "       [-0.84424978,  2.26619601],\n",
       "       [-0.65359351, -0.10434349],\n",
       "       [-1.22556231,  0.30038277],\n",
       "       [ 2.11092234, -0.79815992],\n",
       "       [-1.13023417, -0.76925091],\n",
       "       [-0.36760911,  1.22547135],\n",
       "       [ 0.01370342, -0.53797876],\n",
       "       [-0.08162471,  0.0402016 ],\n",
       "       [ 0.20435968, -0.2777976 ],\n",
       "       [-1.13023417,  0.32929179],\n",
       "       [ 0.01370342,  0.0402016 ],\n",
       "       [ 1.06231288,  0.53165491],\n",
       "       [-1.22556231,  0.50274589],\n",
       "       [ 1.34829728, -1.40524931],\n",
       "       [-0.74892164,  0.30038277],\n",
       "       [-0.74892164,  0.27147375],\n",
       "       [-0.08162471,  0.24256473],\n",
       "       [ 2.01559421,  1.74583368],\n",
       "       [ 0.39501595,  0.01129259],\n",
       "       [ 0.01370342,  1.25438037],\n",
       "       [ 0.20435968, -0.24888858],\n",
       "       [-1.13023417, -1.5497944 ],\n",
       "       [-0.55826538,  0.87856313],\n",
       "       [ 2.11092234, -1.02943207],\n",
       "       [-0.27228098,  2.23728699],\n",
       "       [ 0.29968782, -0.2777976 ],\n",
       "       [-1.89285924, -0.74034189],\n",
       "       [-0.27228098,  0.61838197],\n",
       "       [-0.17695285,  1.60128859],\n",
       "       [-0.55826538, -1.49197636],\n",
       "       [-1.7975311 ,  0.18474669],\n",
       "       [ 1.92026607,  0.73401804],\n",
       "       [ 0.77632848,  0.12692866],\n",
       "       [-1.13023417, -1.52088538],\n",
       "       [-0.17695285,  1.63019761],\n",
       "       [ 0.29968782,  0.06911062],\n",
       "       [-1.89285924,  0.47383688],\n",
       "       [-1.13023417, -1.57870342],\n",
       "       [ 0.87165661, -0.65361483],\n",
       "       [ 1.82493794,  1.51456153],\n",
       "       [-0.55826538,  1.4567435 ],\n",
       "       [ 0.20435968, -0.65361483],\n",
       "       [ 0.20435968,  2.0927419 ],\n",
       "       [-0.65359351,  1.39892546],\n",
       "       [-0.93957791,  1.54347055],\n",
       "       [-0.08162471, -0.42234269],\n",
       "       [-0.65359351, -1.57870342],\n",
       "       [-1.03490604,  1.94819681],\n",
       "       [ 2.01559421,  2.12165091],\n",
       "       [-1.03490604, -1.52088538],\n",
       "       [-0.93957791,  0.41601884],\n",
       "       [ 1.44362541,  0.9941992 ],\n",
       "       [ 0.39501595,  0.27147375],\n",
       "       [-0.84424978, -0.76925091],\n",
       "       [ 1.44362541, -1.02943207],\n",
       "       [ 0.58567222, -0.88488698],\n",
       "       [-0.27228098, -0.24888858],\n",
       "       [ 0.96698475,  2.06383288],\n",
       "       [ 0.10903155,  0.09801964],\n",
       "       [ 0.39501595, -0.16216152],\n",
       "       [-1.41621857, -1.20288618],\n",
       "       [-0.93957791,  0.27147375],\n",
       "       [ 0.39501595, -0.45125171],\n",
       "       [ 0.20435968,  1.08092626],\n",
       "       [ 0.96698475,  0.12692866],\n",
       "       [-0.27228098, -1.34743127],\n",
       "       [ 0.87165661, -1.28961323],\n",
       "       [ 0.49034408,  1.22547135],\n",
       "       [-0.08162471, -0.36452465],\n",
       "       [ 0.39501595,  0.9941992 ],\n",
       "       [-1.41621857, -0.10434349],\n",
       "       [ 1.72960981,  0.9941992 ],\n",
       "       [-0.27228098, -0.42234269],\n",
       "       [-1.5115467 ,  0.32929179],\n",
       "       [-1.70220297, -0.97161403],\n",
       "       [-0.46293724, -0.82706894],\n",
       "       [ 0.29968782, -0.50906974],\n",
       "       [-1.32089044, -1.34743127],\n",
       "       [-1.7975311 , -1.28961323],\n",
       "       [-0.08162471,  0.30038277],\n",
       "       [ 0.96698475, -1.17397716],\n",
       "       [ 0.10903155,  0.0402016 ],\n",
       "       [ 0.29968782, -0.30670662],\n",
       "       [ 1.92026607, -0.913796  ],\n",
       "       [-0.36760911, -0.76925091],\n",
       "       [-0.27228098, -0.13325251],\n",
       "       [-0.08162471,  0.27147375],\n",
       "       [ 0.96698475, -1.00052305],\n",
       "       [ 1.44362541,  2.12165091],\n",
       "       [-0.55826538,  1.89037877],\n",
       "       [ 0.01370342, -0.13325251],\n",
       "       [ 0.01370342,  0.0402016 ],\n",
       "       [ 0.77632848, -0.30670662],\n",
       "       [-1.70220297,  0.3582008 ],\n",
       "       [ 2.01559421, -0.79815992],\n",
       "       [ 2.11092234, -0.79815992],\n",
       "       [-1.5115467 , -0.19107054],\n",
       "       [-1.60687484, -0.04652545],\n",
       "       [ 0.77632848, -1.08725011],\n",
       "       [-1.13023417,  0.41601884],\n",
       "       [ 1.06231288,  0.47383688],\n",
       "       [ 1.53895354,  1.10983528],\n",
       "       [ 2.01559421, -1.17397716],\n",
       "       [-1.32089044, -0.42234269],\n",
       "       [ 1.92026607, -0.65361483],\n",
       "       [-1.32089044, -1.2317952 ],\n",
       "       [ 0.29968782, -0.53797876],\n",
       "       [-0.65359351, -1.49197636],\n",
       "       [-1.13023417,  0.30038277],\n",
       "       [-0.74892164, -1.52088538],\n",
       "       [ 0.77632848, -1.20288618],\n",
       "       [ 1.82493794, -1.26070422],\n",
       "       [-0.46293724, -1.20288618],\n",
       "       [-0.27228098, -0.913796  ],\n",
       "       [ 0.77632848, -1.37634029],\n",
       "       [-0.93957791, -0.42234269],\n",
       "       [-0.74892164,  0.50274589],\n",
       "       [ 1.06231288,  0.56056393],\n",
       "       [-0.08162471,  0.6762    ],\n",
       "       [-1.03490604, -0.45125171],\n",
       "       [-0.65359351, -0.04652545],\n",
       "       [ 0.20435968,  0.15583768],\n",
       "       [ 0.77632848,  0.76292706],\n",
       "       [ 1.25296914,  2.20837797],\n",
       "       [ 0.96698475, -1.05834109],\n",
       "       [ 1.63428168,  1.74583368],\n",
       "       [-1.32089044, -1.08725011],\n",
       "       [ 0.96698475,  0.76292706],\n",
       "       [ 1.06231288,  2.06383288],\n",
       "       [-0.27228098, -0.56688778],\n",
       "       [ 0.96698475, -0.82706894],\n",
       "       [-1.03490604, -0.33561563],\n",
       "       [ 1.06231288, -0.97161403],\n",
       "       [-1.22556231,  0.27147375],\n",
       "       [ 0.68100035, -1.08725011],\n",
       "       [ 0.20435968,  0.24256473],\n",
       "       [-0.17695285, -0.56688778],\n",
       "       [ 0.01370342, -0.24888858],\n",
       "       [-1.7975311 , -1.40524931],\n",
       "       [-0.65359351,  0.12692866],\n",
       "       [ 1.25296914,  1.86146975],\n",
       "       [-0.08162471, -0.21997956],\n",
       "       [ 0.49034408,  1.71692466],\n",
       "       [-1.22556231, -1.37634029],\n",
       "       [ 0.39501595,  0.30038277],\n",
       "       [ 0.87165661,  2.15055993],\n",
       "       [ 0.39501595, -0.48016072],\n",
       "       [ 1.53895354,  0.01129259],\n",
       "       [-0.27228098,  0.21365571],\n",
       "       [ 0.39501595,  0.30038277],\n",
       "       [-0.27228098, -0.33561563],\n",
       "       [-0.27228098,  0.0402016 ],\n",
       "       [-0.93957791, -0.30670662],\n",
       "       [-0.74892164,  1.08092626],\n",
       "       [-0.08162471,  0.01129259],\n",
       "       [ 0.68100035,  1.7747427 ],\n",
       "       [-0.08162471, -0.48016072],\n",
       "       [-0.84424978, -1.20288618],\n",
       "       [ 0.01370342, -0.30670662],\n",
       "       [-0.84424978,  0.15583768],\n",
       "       [-0.27228098,  0.53165491],\n",
       "       [ 1.44362541,  0.06911062],\n",
       "       [-1.32089044,  0.56056393],\n",
       "       [ 1.34829728,  1.97710582],\n",
       "       [-0.27228098,  0.15583768]])"
      ]
     },
     "execution_count": 33,
     "metadata": {},
     "output_type": "execute_result"
    }
   ],
   "source": [
    "X_train"
   ]
  },
  {
   "cell_type": "code",
   "execution_count": 34,
   "id": "d09bc00a",
   "metadata": {},
   "outputs": [],
   "source": [
    "X_test = scaler.transform(X_test)"
   ]
  },
  {
   "cell_type": "code",
   "execution_count": 35,
   "id": "4421047b",
   "metadata": {},
   "outputs": [
    {
     "data": {
      "text/plain": [
       "array([[-0.65359351,  0.18474669],\n",
       "       [-0.36760911,  0.06911062],\n",
       "       [-1.70220297, -0.5957968 ],\n",
       "       [-0.08162471, -0.50906974],\n",
       "       [ 1.15764101, -1.43415833],\n",
       "       [ 0.01370342,  1.22547135],\n",
       "       [-1.7975311 , -1.26070422],\n",
       "       [ 0.20435968, -0.36452465],\n",
       "       [ 0.68100035, -1.26070422],\n",
       "       [ 0.39501595,  0.09801964],\n",
       "       [ 1.44362541,  0.3582008 ],\n",
       "       [-0.93957791, -0.30670662],\n",
       "       [-0.65359351,  0.56056393],\n",
       "       [-0.46293724, -0.2777976 ],\n",
       "       [ 0.10903155,  1.86146975],\n",
       "       [-1.70220297,  0.47383688],\n",
       "       [ 0.29968782,  0.0402016 ],\n",
       "       [-0.27228098,  1.10983528],\n",
       "       [-0.27228098,  0.06911062],\n",
       "       [ 0.10903155,  0.15583768],\n",
       "       [-0.27228098, -0.30670662],\n",
       "       [-0.17695285, -0.50906974],\n",
       "       [ 0.10903155, -0.30670662],\n",
       "       [-1.41621857,  0.3582008 ],\n",
       "       [ 1.06231288, -1.20288618],\n",
       "       [ 0.10903155, -0.24888858],\n",
       "       [-1.32089044, -0.33561563],\n",
       "       [-0.93957791,  0.56056393],\n",
       "       [ 0.96698475,  1.42783448],\n",
       "       [-0.17695285,  0.15583768],\n",
       "       [ 0.29968782,  0.27147375],\n",
       "       [ 2.11092234, -0.68252385],\n",
       "       [-0.27228098, -0.56688778],\n",
       "       [ 1.92026607,  0.90747215],\n",
       "       [ 1.72960981,  1.83256073],\n",
       "       [ 0.10903155,  0.0402016 ],\n",
       "       [-0.55826538,  2.32401404],\n",
       "       [-0.74892164,  0.56056393],\n",
       "       [ 0.77632848,  1.37001644],\n",
       "       [-1.03490604,  0.76292706],\n",
       "       [-0.84424978,  0.38710982],\n",
       "       [-0.93957791, -0.94270502],\n",
       "       [ 0.10903155,  1.51456153],\n",
       "       [-1.13023417,  0.06911062],\n",
       "       [ 0.96698475, -1.05834109],\n",
       "       [-0.17695285, -0.45125171],\n",
       "       [-1.22556231,  0.58947295],\n",
       "       [-0.27228098, -0.65361483],\n",
       "       [ 1.72960981, -0.2777976 ],\n",
       "       [-0.08162471,  0.15583768],\n",
       "       [ 0.49034408,  1.83256073],\n",
       "       [-1.7975311 ,  0.44492786],\n",
       "       [-1.41621857, -0.62470582],\n",
       "       [-0.27228098, -1.37634029],\n",
       "       [ 0.20435968,  0.0402016 ],\n",
       "       [ 1.15764101, -0.97161403],\n",
       "       [ 0.20435968, -0.30670662],\n",
       "       [ 1.82493794, -0.2777976 ],\n",
       "       [-0.46293724, -0.76925091],\n",
       "       [-1.03490604,  0.58947295],\n",
       "       [ 1.06231288, -0.88488698],\n",
       "       [-0.08162471,  0.21365571],\n",
       "       [-0.36760911,  1.3121984 ],\n",
       "       [ 0.96698475,  1.97710582],\n",
       "       [ 0.87165661, -1.02943207],\n",
       "       [ 2.01559421,  0.53165491],\n",
       "       [-1.60687484,  0.06911062],\n",
       "       [-0.17695285,  0.84965411],\n",
       "       [-0.55826538, -1.49197636],\n",
       "       [ 1.82493794, -1.05834109],\n",
       "       [-1.03490604, -1.43415833],\n",
       "       [-0.08162471,  1.94819681],\n",
       "       [ 0.29968782,  0.06911062],\n",
       "       [-1.89285924, -0.04652545],\n",
       "       [-1.70220297,  0.3582008 ],\n",
       "       [-0.65359351, -1.02943207],\n",
       "       [-0.27228098, -1.2317952 ],\n",
       "       [-0.27228098, -1.28961323],\n",
       "       [ 0.10903155,  0.27147375],\n",
       "       [-0.93957791, -1.08725011]])"
      ]
     },
     "execution_count": 35,
     "metadata": {},
     "output_type": "execute_result"
    }
   ],
   "source": [
    "X_test"
   ]
  },
  {
   "cell_type": "code",
   "execution_count": 37,
   "id": "e1e904aa",
   "metadata": {},
   "outputs": [
    {
     "data": {
      "text/plain": [
       "17.88854381999832"
      ]
     },
     "execution_count": 37,
     "metadata": {},
     "output_type": "execute_result"
    }
   ],
   "source": [
    "#Finding k through math\n",
    "np.sqrt(X_train.shape[0])"
   ]
  },
  {
   "cell_type": "code",
   "execution_count": 59,
   "id": "c029af35",
   "metadata": {},
   "outputs": [],
   "source": [
    "k=17"
   ]
  },
  {
   "cell_type": "code",
   "execution_count": 60,
   "id": "bcf404ca",
   "metadata": {},
   "outputs": [],
   "source": [
    "from sklearn.neighbors import KNeighborsClassifier"
   ]
  },
  {
   "cell_type": "code",
   "execution_count": 61,
   "id": "2a5fc96f",
   "metadata": {},
   "outputs": [],
   "source": [
    "knn = KNeighborsClassifier(n_neighbors=k)"
   ]
  },
  {
   "cell_type": "code",
   "execution_count": 62,
   "id": "146e0053",
   "metadata": {},
   "outputs": [
    {
     "data": {
      "text/plain": [
       "KNeighborsClassifier(n_neighbors=17)"
      ]
     },
     "execution_count": 62,
     "metadata": {},
     "output_type": "execute_result"
    }
   ],
   "source": [
    "knn.fit(X_train,y_train)"
   ]
  },
  {
   "cell_type": "code",
   "execution_count": 63,
   "id": "7253a0e8",
   "metadata": {},
   "outputs": [
    {
     "name": "stderr",
     "output_type": "stream",
     "text": [
      "C:\\Users\\RaloP\\anaconda3\\lib\\site-packages\\sklearn\\neighbors\\_classification.py:228: FutureWarning: Unlike other reduction functions (e.g. `skew`, `kurtosis`), the default behavior of `mode` typically preserves the axis it acts along. In SciPy 1.11.0, this behavior will change: the default value of `keepdims` will become False, the `axis` over which the statistic is taken will be eliminated, and the value None will no longer be accepted. Set `keepdims` to True or False to avoid this warning.\n",
      "  mode, _ = stats.mode(_y[neigh_ind, k], axis=1)\n"
     ]
    }
   ],
   "source": [
    "y_pred = knn.predict(X_test)"
   ]
  },
  {
   "cell_type": "code",
   "execution_count": 64,
   "id": "53df8b23",
   "metadata": {},
   "outputs": [],
   "source": [
    "from sklearn.metrics import classification_report"
   ]
  },
  {
   "cell_type": "code",
   "execution_count": 66,
   "id": "b44f77cc",
   "metadata": {},
   "outputs": [
    {
     "name": "stdout",
     "output_type": "stream",
     "text": [
      "              precision    recall  f1-score   support\n",
      "\n",
      "           0       0.92      0.92      0.92        53\n",
      "           1       0.85      0.85      0.85        27\n",
      "\n",
      "    accuracy                           0.90        80\n",
      "   macro avg       0.89      0.89      0.89        80\n",
      "weighted avg       0.90      0.90      0.90        80\n",
      "\n"
     ]
    }
   ],
   "source": [
    "print(classification_report(y_test,y_pred))"
   ]
  },
  {
   "cell_type": "code",
   "execution_count": 71,
   "id": "99ef4e96",
   "metadata": {},
   "outputs": [
    {
     "name": "stderr",
     "output_type": "stream",
     "text": [
      "C:\\Users\\RaloP\\anaconda3\\lib\\site-packages\\sklearn\\neighbors\\_classification.py:228: FutureWarning: Unlike other reduction functions (e.g. `skew`, `kurtosis`), the default behavior of `mode` typically preserves the axis it acts along. In SciPy 1.11.0, this behavior will change: the default value of `keepdims` will become False, the `axis` over which the statistic is taken will be eliminated, and the value None will no longer be accepted. Set `keepdims` to True or False to avoid this warning.\n",
      "  mode, _ = stats.mode(_y[neigh_ind, k], axis=1)\n",
      "C:\\Users\\RaloP\\anaconda3\\lib\\site-packages\\sklearn\\neighbors\\_classification.py:228: FutureWarning: Unlike other reduction functions (e.g. `skew`, `kurtosis`), the default behavior of `mode` typically preserves the axis it acts along. In SciPy 1.11.0, this behavior will change: the default value of `keepdims` will become False, the `axis` over which the statistic is taken will be eliminated, and the value None will no longer be accepted. Set `keepdims` to True or False to avoid this warning.\n",
      "  mode, _ = stats.mode(_y[neigh_ind, k], axis=1)\n",
      "C:\\Users\\RaloP\\anaconda3\\lib\\site-packages\\sklearn\\neighbors\\_classification.py:228: FutureWarning: Unlike other reduction functions (e.g. `skew`, `kurtosis`), the default behavior of `mode` typically preserves the axis it acts along. In SciPy 1.11.0, this behavior will change: the default value of `keepdims` will become False, the `axis` over which the statistic is taken will be eliminated, and the value None will no longer be accepted. Set `keepdims` to True or False to avoid this warning.\n",
      "  mode, _ = stats.mode(_y[neigh_ind, k], axis=1)\n",
      "C:\\Users\\RaloP\\anaconda3\\lib\\site-packages\\sklearn\\neighbors\\_classification.py:228: FutureWarning: Unlike other reduction functions (e.g. `skew`, `kurtosis`), the default behavior of `mode` typically preserves the axis it acts along. In SciPy 1.11.0, this behavior will change: the default value of `keepdims` will become False, the `axis` over which the statistic is taken will be eliminated, and the value None will no longer be accepted. Set `keepdims` to True or False to avoid this warning.\n",
      "  mode, _ = stats.mode(_y[neigh_ind, k], axis=1)\n",
      "C:\\Users\\RaloP\\anaconda3\\lib\\site-packages\\sklearn\\neighbors\\_classification.py:228: FutureWarning: Unlike other reduction functions (e.g. `skew`, `kurtosis`), the default behavior of `mode` typically preserves the axis it acts along. In SciPy 1.11.0, this behavior will change: the default value of `keepdims` will become False, the `axis` over which the statistic is taken will be eliminated, and the value None will no longer be accepted. Set `keepdims` to True or False to avoid this warning.\n",
      "  mode, _ = stats.mode(_y[neigh_ind, k], axis=1)\n",
      "C:\\Users\\RaloP\\anaconda3\\lib\\site-packages\\sklearn\\neighbors\\_classification.py:228: FutureWarning: Unlike other reduction functions (e.g. `skew`, `kurtosis`), the default behavior of `mode` typically preserves the axis it acts along. In SciPy 1.11.0, this behavior will change: the default value of `keepdims` will become False, the `axis` over which the statistic is taken will be eliminated, and the value None will no longer be accepted. Set `keepdims` to True or False to avoid this warning.\n",
      "  mode, _ = stats.mode(_y[neigh_ind, k], axis=1)\n",
      "C:\\Users\\RaloP\\anaconda3\\lib\\site-packages\\sklearn\\neighbors\\_classification.py:228: FutureWarning: Unlike other reduction functions (e.g. `skew`, `kurtosis`), the default behavior of `mode` typically preserves the axis it acts along. In SciPy 1.11.0, this behavior will change: the default value of `keepdims` will become False, the `axis` over which the statistic is taken will be eliminated, and the value None will no longer be accepted. Set `keepdims` to True or False to avoid this warning.\n",
      "  mode, _ = stats.mode(_y[neigh_ind, k], axis=1)\n",
      "C:\\Users\\RaloP\\anaconda3\\lib\\site-packages\\sklearn\\neighbors\\_classification.py:228: FutureWarning: Unlike other reduction functions (e.g. `skew`, `kurtosis`), the default behavior of `mode` typically preserves the axis it acts along. In SciPy 1.11.0, this behavior will change: the default value of `keepdims` will become False, the `axis` over which the statistic is taken will be eliminated, and the value None will no longer be accepted. Set `keepdims` to True or False to avoid this warning.\n",
      "  mode, _ = stats.mode(_y[neigh_ind, k], axis=1)\n",
      "C:\\Users\\RaloP\\anaconda3\\lib\\site-packages\\sklearn\\neighbors\\_classification.py:228: FutureWarning: Unlike other reduction functions (e.g. `skew`, `kurtosis`), the default behavior of `mode` typically preserves the axis it acts along. In SciPy 1.11.0, this behavior will change: the default value of `keepdims` will become False, the `axis` over which the statistic is taken will be eliminated, and the value None will no longer be accepted. Set `keepdims` to True or False to avoid this warning.\n",
      "  mode, _ = stats.mode(_y[neigh_ind, k], axis=1)\n",
      "C:\\Users\\RaloP\\anaconda3\\lib\\site-packages\\sklearn\\neighbors\\_classification.py:228: FutureWarning: Unlike other reduction functions (e.g. `skew`, `kurtosis`), the default behavior of `mode` typically preserves the axis it acts along. In SciPy 1.11.0, this behavior will change: the default value of `keepdims` will become False, the `axis` over which the statistic is taken will be eliminated, and the value None will no longer be accepted. Set `keepdims` to True or False to avoid this warning.\n",
      "  mode, _ = stats.mode(_y[neigh_ind, k], axis=1)\n",
      "C:\\Users\\RaloP\\anaconda3\\lib\\site-packages\\sklearn\\neighbors\\_classification.py:228: FutureWarning: Unlike other reduction functions (e.g. `skew`, `kurtosis`), the default behavior of `mode` typically preserves the axis it acts along. In SciPy 1.11.0, this behavior will change: the default value of `keepdims` will become False, the `axis` over which the statistic is taken will be eliminated, and the value None will no longer be accepted. Set `keepdims` to True or False to avoid this warning.\n",
      "  mode, _ = stats.mode(_y[neigh_ind, k], axis=1)\n",
      "C:\\Users\\RaloP\\anaconda3\\lib\\site-packages\\sklearn\\neighbors\\_classification.py:228: FutureWarning: Unlike other reduction functions (e.g. `skew`, `kurtosis`), the default behavior of `mode` typically preserves the axis it acts along. In SciPy 1.11.0, this behavior will change: the default value of `keepdims` will become False, the `axis` over which the statistic is taken will be eliminated, and the value None will no longer be accepted. Set `keepdims` to True or False to avoid this warning.\n",
      "  mode, _ = stats.mode(_y[neigh_ind, k], axis=1)\n",
      "C:\\Users\\RaloP\\anaconda3\\lib\\site-packages\\sklearn\\neighbors\\_classification.py:228: FutureWarning: Unlike other reduction functions (e.g. `skew`, `kurtosis`), the default behavior of `mode` typically preserves the axis it acts along. In SciPy 1.11.0, this behavior will change: the default value of `keepdims` will become False, the `axis` over which the statistic is taken will be eliminated, and the value None will no longer be accepted. Set `keepdims` to True or False to avoid this warning.\n",
      "  mode, _ = stats.mode(_y[neigh_ind, k], axis=1)\n",
      "C:\\Users\\RaloP\\anaconda3\\lib\\site-packages\\sklearn\\neighbors\\_classification.py:228: FutureWarning: Unlike other reduction functions (e.g. `skew`, `kurtosis`), the default behavior of `mode` typically preserves the axis it acts along. In SciPy 1.11.0, this behavior will change: the default value of `keepdims` will become False, the `axis` over which the statistic is taken will be eliminated, and the value None will no longer be accepted. Set `keepdims` to True or False to avoid this warning.\n",
      "  mode, _ = stats.mode(_y[neigh_ind, k], axis=1)\n",
      "C:\\Users\\RaloP\\anaconda3\\lib\\site-packages\\sklearn\\neighbors\\_classification.py:228: FutureWarning: Unlike other reduction functions (e.g. `skew`, `kurtosis`), the default behavior of `mode` typically preserves the axis it acts along. In SciPy 1.11.0, this behavior will change: the default value of `keepdims` will become False, the `axis` over which the statistic is taken will be eliminated, and the value None will no longer be accepted. Set `keepdims` to True or False to avoid this warning.\n",
      "  mode, _ = stats.mode(_y[neigh_ind, k], axis=1)\n",
      "C:\\Users\\RaloP\\anaconda3\\lib\\site-packages\\sklearn\\neighbors\\_classification.py:228: FutureWarning: Unlike other reduction functions (e.g. `skew`, `kurtosis`), the default behavior of `mode` typically preserves the axis it acts along. In SciPy 1.11.0, this behavior will change: the default value of `keepdims` will become False, the `axis` over which the statistic is taken will be eliminated, and the value None will no longer be accepted. Set `keepdims` to True or False to avoid this warning.\n",
      "  mode, _ = stats.mode(_y[neigh_ind, k], axis=1)\n",
      "C:\\Users\\RaloP\\anaconda3\\lib\\site-packages\\sklearn\\neighbors\\_classification.py:228: FutureWarning: Unlike other reduction functions (e.g. `skew`, `kurtosis`), the default behavior of `mode` typically preserves the axis it acts along. In SciPy 1.11.0, this behavior will change: the default value of `keepdims` will become False, the `axis` over which the statistic is taken will be eliminated, and the value None will no longer be accepted. Set `keepdims` to True or False to avoid this warning.\n",
      "  mode, _ = stats.mode(_y[neigh_ind, k], axis=1)\n",
      "C:\\Users\\RaloP\\anaconda3\\lib\\site-packages\\sklearn\\neighbors\\_classification.py:228: FutureWarning: Unlike other reduction functions (e.g. `skew`, `kurtosis`), the default behavior of `mode` typically preserves the axis it acts along. In SciPy 1.11.0, this behavior will change: the default value of `keepdims` will become False, the `axis` over which the statistic is taken will be eliminated, and the value None will no longer be accepted. Set `keepdims` to True or False to avoid this warning.\n",
      "  mode, _ = stats.mode(_y[neigh_ind, k], axis=1)\n",
      "C:\\Users\\RaloP\\anaconda3\\lib\\site-packages\\sklearn\\neighbors\\_classification.py:228: FutureWarning: Unlike other reduction functions (e.g. `skew`, `kurtosis`), the default behavior of `mode` typically preserves the axis it acts along. In SciPy 1.11.0, this behavior will change: the default value of `keepdims` will become False, the `axis` over which the statistic is taken will be eliminated, and the value None will no longer be accepted. Set `keepdims` to True or False to avoid this warning.\n",
      "  mode, _ = stats.mode(_y[neigh_ind, k], axis=1)\n",
      "C:\\Users\\RaloP\\anaconda3\\lib\\site-packages\\sklearn\\neighbors\\_classification.py:228: FutureWarning: Unlike other reduction functions (e.g. `skew`, `kurtosis`), the default behavior of `mode` typically preserves the axis it acts along. In SciPy 1.11.0, this behavior will change: the default value of `keepdims` will become False, the `axis` over which the statistic is taken will be eliminated, and the value None will no longer be accepted. Set `keepdims` to True or False to avoid this warning.\n",
      "  mode, _ = stats.mode(_y[neigh_ind, k], axis=1)\n",
      "C:\\Users\\RaloP\\anaconda3\\lib\\site-packages\\sklearn\\neighbors\\_classification.py:228: FutureWarning: Unlike other reduction functions (e.g. `skew`, `kurtosis`), the default behavior of `mode` typically preserves the axis it acts along. In SciPy 1.11.0, this behavior will change: the default value of `keepdims` will become False, the `axis` over which the statistic is taken will be eliminated, and the value None will no longer be accepted. Set `keepdims` to True or False to avoid this warning.\n",
      "  mode, _ = stats.mode(_y[neigh_ind, k], axis=1)\n",
      "C:\\Users\\RaloP\\anaconda3\\lib\\site-packages\\sklearn\\neighbors\\_classification.py:228: FutureWarning: Unlike other reduction functions (e.g. `skew`, `kurtosis`), the default behavior of `mode` typically preserves the axis it acts along. In SciPy 1.11.0, this behavior will change: the default value of `keepdims` will become False, the `axis` over which the statistic is taken will be eliminated, and the value None will no longer be accepted. Set `keepdims` to True or False to avoid this warning.\n",
      "  mode, _ = stats.mode(_y[neigh_ind, k], axis=1)\n",
      "C:\\Users\\RaloP\\anaconda3\\lib\\site-packages\\sklearn\\neighbors\\_classification.py:228: FutureWarning: Unlike other reduction functions (e.g. `skew`, `kurtosis`), the default behavior of `mode` typically preserves the axis it acts along. In SciPy 1.11.0, this behavior will change: the default value of `keepdims` will become False, the `axis` over which the statistic is taken will be eliminated, and the value None will no longer be accepted. Set `keepdims` to True or False to avoid this warning.\n",
      "  mode, _ = stats.mode(_y[neigh_ind, k], axis=1)\n",
      "C:\\Users\\RaloP\\anaconda3\\lib\\site-packages\\sklearn\\neighbors\\_classification.py:228: FutureWarning: Unlike other reduction functions (e.g. `skew`, `kurtosis`), the default behavior of `mode` typically preserves the axis it acts along. In SciPy 1.11.0, this behavior will change: the default value of `keepdims` will become False, the `axis` over which the statistic is taken will be eliminated, and the value None will no longer be accepted. Set `keepdims` to True or False to avoid this warning.\n",
      "  mode, _ = stats.mode(_y[neigh_ind, k], axis=1)\n",
      "C:\\Users\\RaloP\\anaconda3\\lib\\site-packages\\sklearn\\neighbors\\_classification.py:228: FutureWarning: Unlike other reduction functions (e.g. `skew`, `kurtosis`), the default behavior of `mode` typically preserves the axis it acts along. In SciPy 1.11.0, this behavior will change: the default value of `keepdims` will become False, the `axis` over which the statistic is taken will be eliminated, and the value None will no longer be accepted. Set `keepdims` to True or False to avoid this warning.\n",
      "  mode, _ = stats.mode(_y[neigh_ind, k], axis=1)\n"
     ]
    }
   ],
   "source": [
    "#Finding k through testing\n",
    "accuracy=[]\n",
    "for i in range(1,26):\n",
    "    knn = KNeighborsClassifier(n_neighbors=i)\n",
    "    knn.fit(X_train,y_train)\n",
    "    accuracy.append(accuracy_score(y_test,knn.predict(X_test)))"
   ]
  },
  {
   "cell_type": "code",
   "execution_count": 72,
   "id": "5165970c",
   "metadata": {},
   "outputs": [
    {
     "data": {
      "text/plain": [
       "[0.8625,\n",
       " 0.8875,\n",
       " 0.8875,\n",
       " 0.9125,\n",
       " 0.9,\n",
       " 0.9,\n",
       " 0.9,\n",
       " 0.9,\n",
       " 0.9,\n",
       " 0.9,\n",
       " 0.9,\n",
       " 0.9,\n",
       " 0.9,\n",
       " 0.9,\n",
       " 0.9,\n",
       " 0.9,\n",
       " 0.9,\n",
       " 0.9,\n",
       " 0.9,\n",
       " 0.9,\n",
       " 0.9,\n",
       " 0.9,\n",
       " 0.9,\n",
       " 0.9,\n",
       " 0.9]"
      ]
     },
     "execution_count": 72,
     "metadata": {},
     "output_type": "execute_result"
    }
   ],
   "source": [
    "accuracy"
   ]
  },
  {
   "cell_type": "code",
   "execution_count": 75,
   "id": "45d57515",
   "metadata": {},
   "outputs": [
    {
     "data": {
      "text/plain": [
       "[<matplotlib.lines.Line2D at 0x12bdb888c70>]"
      ]
     },
     "execution_count": 75,
     "metadata": {},
     "output_type": "execute_result"
    },
    {
     "data": {
      "image/png": "[encoded data removed]",
      "text/plain": [
       "<Figure size 640x480 with 1 Axes>"
      ]
     },
     "metadata": {},
     "output_type": "display_data"
    }
   ],
   "source": [
    "plt.plot(range(1,26),accuracy)"
   ]
  },
  {
   "cell_type": "code",
   "execution_count": 76,
   "id": "fdb09646",
   "metadata": {},
   "outputs": [
    {
     "name": "stderr",
     "output_type": "stream",
     "text": [
      "C:\\Users\\RaloP\\anaconda3\\lib\\site-packages\\sklearn\\neighbors\\_classification.py:228: FutureWarning: Unlike other reduction functions (e.g. `skew`, `kurtosis`), the default behavior of `mode` typically preserves the axis it acts along. In SciPy 1.11.0, this behavior will change: the default value of `keepdims` will become False, the `axis` over which the statistic is taken will be eliminated, and the value None will no longer be accepted. Set `keepdims` to True or False to avoid this warning.\n",
      "  mode, _ = stats.mode(_y[neigh_ind, k], axis=1)\n"
     ]
    }
   ],
   "source": [
    "#We can see a spike in accuracy when k is equal to 4\n",
    "from sklearn.metrics import accuracy_score\n",
    "knn = KNeighborsClassifier(n_neighbors=4)\n",
    "knn.fit(X_train,y_train)\n",
    "y_pred = knn.predict(X_test)"
   ]
  },
  {
   "cell_type": "code",
   "execution_count": 77,
   "id": "16106b8a",
   "metadata": {},
   "outputs": [
    {
     "data": {
      "text/plain": [
       "0.9125"
      ]
     },
     "execution_count": 77,
     "metadata": {},
     "output_type": "execute_result"
    }
   ],
   "source": [
    "accuracy_score(y_test,y_pred)"
   ]
  },
  {
   "cell_type": "code",
   "execution_count": null,
   "id": "e3c0b9bc",
   "metadata": {},
   "outputs": [],
   "source": [
    "#91% is the best accuracy for this example, as after the prediction stagnates"
   ]
  }
 ],
 "metadata": {
  "kernelspec": {
   "display_name": "Python 3 (ipykernel)",
   "language": "python",
   "name": "python3"
  },
  "language_info": {
   "codemirror_mode": {
    "name": "ipython",
    "version": 3
   },
   "file_extension": ".py",
   "mimetype": "text/x-python",
   "name": "python",
   "nbconvert_exporter": "python",
   "pygments_lexer": "ipython3",
   "version": "3.9.13"
  }
 },
 "nbformat": 4,
 "nbformat_minor": 5
}
